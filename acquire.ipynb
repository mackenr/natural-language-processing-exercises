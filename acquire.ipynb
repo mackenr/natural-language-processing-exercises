{
 "cells": [
  {
   "cell_type": "code",
   "execution_count": 180,
   "metadata": {},
   "outputs": [],
   "source": [
    "from requests import get\n",
    "from bs4 import BeautifulSoup\n",
    "import os\n",
    "import pandas as pd\n",
    "\n",
    "\n",
    "\n",
    "\n"
   ]
  },
  {
   "cell_type": "code",
   "execution_count": 181,
   "metadata": {},
   "outputs": [],
   "source": [
    "\n",
    "\n",
    "\n",
    "\n",
    "def get_article_content(some_article):\n",
    "    '''\n",
    "    grab the content out of the beautiful soup object\n",
    "    for each article in our overall set of articles\n",
    "    '''\n",
    "    output = {}\n",
    "    output['headline'] = some_article.find('h2').text.strip()\n",
    "    output['date'], output['author'], output['content'] = \\\n",
    "    [thing.text.strip() for thing in some_article.find_all('p')]\n",
    "    return output\n",
    "\n",
    "\n",
    "# print(soup.article.text)\n",
    "def get_codeup_article_content(soup):\n",
    "    splitup=soup.article.text.strip().splitlines()\n",
    "    title=splitup[0]\n",
    "    splitup[1]=splitup[1].split('|')\n",
    "    category=splitup[1][1].strip()\n",
    "    content=''.join(splitup[2:])\n",
    "    dicta={'title': title,'content':content }  \n",
    "   \n",
    "    return dicta\n",
    "\n",
    "\n",
    "\n",
    "def codeuparticles_df(urllist):\n",
    "    codeuparticles=[]\n",
    "    headers = {'User-Agent': 'Codeup Data Science'}\n",
    "    for i in range(0,len(urllist)):\n",
    "        soup=BeautifulSoup(get(urllist[i],headers=headers).content,'html.parser')\n",
    "        dicta=get_codeup_article_content(soup)\n",
    "        codeuparticles.append(dicta)\n",
    "\n",
    "    codeuparticles=pd.DataFrame(codeuparticles)\n",
    "    return codeuparticles\n"
   ]
  },
  {
   "cell_type": "code",
   "execution_count": 183,
   "metadata": {},
   "outputs": [],
   "source": [
    "blogurls=[]\n",
    "blogurls.append('https://codeup.com/codeup-news/dei-report/')\n",
    "blogurls.append('https://codeup.com/codeup-news/diversity-and-inclusion-award/')\n",
    "blogurls.append('https://codeup.com/featured/financing-career-transition/')\n",
    "blogurls.append('https://codeup.com/tips-for-prospective-students/tips-for-women/')\n",
    "blogurls.append('https://codeup.com/cloud-administration/cloud-computing-and-aws/')\n",
    "\n",
    "\n",
    "\n",
    "\n",
    "headers = {'User-Agent': 'Codeup Data Science'} # Some websites don't accept the pyhon-requests default user-agent\n",
    "soup=BeautifulSoup(get(blogurls[0],headers=headers).content,'html.parser')\n",
    "soup.title.text\n",
    "# print(soup.article.text)\n",
    "\n",
    "   \n",
    "codeuparticles=codeuparticles_df(blogurls)\n",
    "codeuparticles\n",
    "\n",
    "\n"
   ]
  },
  {
   "cell_type": "code",
   "execution_count": null,
   "metadata": {},
   "outputs": [],
   "source": [
    "\n",
    "url='https://blog.inshorts.com/'\n",
    "\n",
    "\n",
    "soup=BeautifulSoup(get(url,headers=headers).content,'html.parser')\n",
    "def souphtmltags(soup):\n",
    "    tagset=[]\n",
    "\n",
    "    for tag in soup.findAll(True):\n",
    "        tagset.append(tag.name)\n",
    "        tagset=list(set(tagset))\n",
    "    tagset.sort()\n",
    "    return tagset\n",
    "\n",
    "\n",
    "tagset=souphtmltags(soup)\n",
    "cssset=[]\n",
    "for t in tagset:\n",
    "    css=(soup.findAll(t))\n",
    "    for i in css:\n",
    "      csstags=i.findAll(True)\n",
    "      for c in csstags:\n",
    "  \n",
    "        cssset.append(c.name)\n",
    "        cssset=list(set(cssset))\n",
    "\n",
    "cssset"
   ]
  },
  {
   "cell_type": "code",
   "execution_count": null,
   "metadata": {},
   "outputs": [],
   "source": [
    "\n",
    "\n",
    "newsurls=[]\n",
    "for i in (soup.find_all('article')):\n",
    "    newsurls.append(i.h2.a['href'])\n",
    "newsurls\n",
    "\n",
    "\n",
    "tagset=souphtmltags(soup)\n",
    "# for i in newsurls:\n",
    "soups=BeautifulSoup(get(newsurls[1],headers=headers).content,'html.parser')\n",
    "selection=soups.select('p')\n",
    "jlist=[]\n",
    "for j in selection:\n",
    "        jlist.extend([(j.text)])\n",
    "\n",
    "jlist[0]=jlist[0].split()\n",
    "{'category': jlist[0][1]}\n",
    "\n",
    "           \n",
    " \n"
   ]
  },
  {
   "cell_type": "code",
   "execution_count": null,
   "metadata": {},
   "outputs": [],
   "source": [
    "\n",
    "soups.select('p.href')\n",
    "\n"
   ]
  },
  {
   "cell_type": "code",
   "execution_count": null,
   "metadata": {},
   "outputs": [],
   "source": [
    "\n",
    "splitsoup=soups.get_text('p')\n",
    "splitsoup\n",
    "# for i in splitsoup:\n",
    "#     if len(i)>3 and i[0]=='p'and i[-1]=='p':\n",
    "#         i=i[1:-1]\n",
    "#         print(i)\n",
    "\n",
    "#     elif len(i)>3 and i[-1]=='p':\n",
    "#         i=i[0:-1]\n",
    "#         print(i)"
   ]
  },
  {
   "cell_type": "code",
   "execution_count": null,
   "metadata": {},
   "outputs": [],
   "source": [
    "soups.get_text?"
   ]
  },
  {
   "cell_type": "code",
   "execution_count": null,
   "metadata": {},
   "outputs": [],
   "source": [
    "\n",
    "splitsoup=soups.text.strip().split('\\n')\n",
    "# splitsoup=list(set(splitsoup))\n",
    "splitsoup[0]\n",
    "ingore=['Question',\n",
    " 'Answer',\n",
    " 'Percentage',\n",
    " 'Question',\n",
    " 'Answer',\n",
    " 'Percentage',\n",
    " '',' ', 'Skip to content',\n",
    " 'Inshorts  Blog',\n",
    " 'Close ',\n",
    " 'collapsed',\n",
    " 'Archives',\n",
    " 'Menu ',\n",
    " 'expanded',]\n",
    "newsplit=[]\n",
    "for i in splitsoup:\n",
    "    if all([i!= x for x in ingore]):\n",
    "        newsplit.append(i)\n",
    "# newsplit=newsplit[1:newsplit.index('Like this:Like Loading... ')]\n",
    "newsplit\n",
    "\n",
    "\n",
    "\n",
    "\n",
    "\n"
   ]
  }
 ],
 "metadata": {
  "kernelspec": {
   "display_name": "Python 3.9.10 ('base')",
   "language": "python",
   "name": "python3"
  },
  "language_info": {
   "codemirror_mode": {
    "name": "ipython",
    "version": 3
   },
   "file_extension": ".py",
   "mimetype": "text/x-python",
   "name": "python",
   "nbconvert_exporter": "python",
   "pygments_lexer": "ipython3",
   "version": "3.9.10"
  },
  "orig_nbformat": 4,
  "vscode": {
   "interpreter": {
    "hash": "38cca0c38332a56087b24af0bc80247f4fced29cb4f7f437d91dc159adec9c4e"
   }
  }
 },
 "nbformat": 4,
 "nbformat_minor": 2
}
